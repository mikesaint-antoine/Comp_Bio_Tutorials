{
 "cells": [
  {
   "cell_type": "markdown",
   "id": "777210ce",
   "metadata": {},
   "source": [
    "# Neural Nets from Scratch in Julia\n",
    "\n",
    "## Lesson 4: Backpropagation for addition (part 1)\n",
    "\n",
    "* In this video we'll start writing the code for the backward pass of the addition operation\n",
    "* [Documentation site here](https://mikesaint-antoine.github.io/SimpleGrad.jl)\n",
    "* [Github repo here](https://github.com/mikesaint-antoine/SimpleGrad.jl)"
   ]
  },
  {
   "cell_type": "code",
   "execution_count": 1,
   "id": "ef6543b1",
   "metadata": {},
   "outputs": [
    {
     "data": {
      "text/plain": [
       "+ (generic function with 191 methods)"
      ]
     },
     "execution_count": 1,
     "metadata": {},
     "output_type": "execute_result"
    }
   ],
   "source": [
    "## code so far\n",
    "\n",
    "mutable struct Value{opType} <: Number\n",
    "    data::Float64\n",
    "    grad::Float64\n",
    "    op::opType\n",
    "end\n",
    "\n",
    "\n",
    "struct Operation{FuncType, ArgTypes}\n",
    "    op::FuncType\n",
    "    args::ArgTypes\n",
    "end\n",
    "\n",
    "# constructor -- Value(data, grad, op)\n",
    "Value(x::Number) = Value(Float64(x), 0.0, nothing);\n",
    "\n",
    "\n",
    "import Base.show\n",
    "function show(io::IO, value::Value)\n",
    "    print(io, \"Value(\",value.data,\")\")\n",
    "end\n",
    "\n",
    "\n",
    "import Base.==\n",
    "function ==(a::Value, b::Value)\n",
    "     return a===b\n",
    "end\n",
    "\n",
    "\n",
    "import Base.+\n",
    "function +(a::Value, b::Value)\n",
    "\n",
    "    out = a.data + b.data    \n",
    "    result = Value(out, 0.0, Operation(+, (a,b))) # Value(data, grad, op)\n",
    "    return result # this should be a Value\n",
    " \n",
    "end"
   ]
  },
  {
   "cell_type": "code",
   "execution_count": null,
   "id": "53760914",
   "metadata": {},
   "outputs": [],
   "source": [
    "\n",
    "# backprop!() - internal function, called on each variable to update the gradients of the the operands for that variable\n",
    "\n",
    "# backward() - user facing function, performs full backward pass\n",
    "\n",
    "\n",
    "# w = x + y\n",
    "# z = a + b\n",
    "\n",
    "# c = w + z\n",
    "\n",
    "# full backward pass\n",
    "# backward(c)\n",
    "\n",
    "# backprop!(c)\n",
    "# backprop!(w)\n",
    "# backprop!(z)\n",
    "# backprop!(a)\n",
    "# backprop!(b)\n",
    "# backprop!(x)\n",
    "# backprop!(y)\n"
   ]
  },
  {
   "cell_type": "code",
   "execution_count": 18,
   "id": "93385eb8",
   "metadata": {},
   "outputs": [
    {
     "data": {
      "text/plain": [
       "backprop! (generic function with 2 methods)"
      ]
     },
     "execution_count": 18,
     "metadata": {},
     "output_type": "execute_result"
    }
   ],
   "source": [
    "backprop!(val::Value{Nothing}) = nothing"
   ]
  },
  {
   "cell_type": "code",
   "execution_count": 25,
   "id": "35c0446d",
   "metadata": {},
   "outputs": [
    {
     "name": "stdout",
     "output_type": "stream",
     "text": [
      "0.0\n",
      "1.0\n"
     ]
    }
   ],
   "source": [
    "x = Value(2)\n",
    "y = Value(3)\n",
    "\n",
    "z = x + y\n",
    "\n",
    "# println(typeof(z))\n",
    "\n",
    "# println(z.op)\n",
    "\n",
    "# println(z.op.op)\n",
    "# println(z.op.args)\n",
    "\n",
    "println(x.grad)\n",
    "\n",
    "\n",
    "# println(z.op.args[1].grad)\n",
    "z.op.args[1].grad = 1\n",
    "\n",
    "println(x.grad)"
   ]
  },
  {
   "cell_type": "code",
   "execution_count": null,
   "id": "27ee6b26",
   "metadata": {},
   "outputs": [],
   "source": [
    "function backprop!(val::Value{Operation{FunType, ArgTypes}}) where {FunType<:typeof(+), ArgTypes}\n",
    "    \n",
    "    # val = a + b\n",
    "    # update a.grad, b.grad\n",
    "    \n",
    "    val.op.args[1].grad += val.grad\n",
    "    val.op.args[2].grad += val.grad\n",
    "\n",
    "    \n",
    "    \n",
    "    \n",
    "end"
   ]
  },
  {
   "cell_type": "code",
   "execution_count": 4,
   "id": "954bccf6",
   "metadata": {},
   "outputs": [],
   "source": [
    "\n",
    "# why incrementing rather than setting?\n",
    "\n",
    "# x = Value(2)\n",
    "# y = Value(3)\n",
    "\n",
    "# z = x + y\n",
    "\n",
    "# w = z + x\n",
    "\n",
    "# backward(w)\n",
    "\n",
    "#backprop!(w) # update x.grad\n",
    "#backprop!(z) # update x.grad\n",
    "\n",
    "#backprop!(x) # does nothing\n",
    "#backprop!(y) # does nothing\n",
    "\n",
    "# x.grad = 2\n",
    "# dw/dx = 2\n",
    "\n",
    "\n",
    "\n",
    "# why incrementing by val.grad rather than 1?\n",
    "\n",
    "# x = Value(2)\n",
    "# y = Value(3)\n",
    "\n",
    "# z = x + y\n",
    "\n",
    "\n",
    "# loss = 6*z\n",
    "\n",
    "# backwad(loss)\n",
    "\n",
    "# dloss/dz = 6\n",
    "# z.grad = 6\n",
    "\n",
    "\n",
    "# x.grad\n",
    "# this is NOT dz/dx, this is dloss/dx\n",
    "# x.grad != 1\n",
    "\n",
    "# dloss/dx = dloss/dz * dz/dx \n",
    "# dloss/dx = z.grad * dz/dx\n",
    "# dloss/dx = 6 * 1 = 6\n",
    "\n",
    "\n"
   ]
  }
 ],
 "metadata": {
  "kernelspec": {
   "display_name": "Julia 1.6.7",
   "language": "julia",
   "name": "julia-1.6"
  },
  "language_info": {
   "file_extension": ".jl",
   "mimetype": "application/julia",
   "name": "julia",
   "version": "1.6.7"
  }
 },
 "nbformat": 4,
 "nbformat_minor": 5
}
