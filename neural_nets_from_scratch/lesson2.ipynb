{
 "cells": [
  {
   "cell_type": "markdown",
   "id": "6bb7495a",
   "metadata": {},
   "source": [
    "# Neural Nets from Scratch in Julia\n",
    "\n",
    "## Lesson 2: Defining *Value* type\n",
    "\n",
    "* In this video we'll start creating the *Value* type from scratch\n",
    "* [Documentation site here](https://mikesaint-antoine.github.io/SimpleGrad.jl)\n",
    "* [Github repo here](https://github.com/mikesaint-antoine/SimpleGrad.jl)"
   ]
  },
  {
   "cell_type": "code",
   "execution_count": 2,
   "id": "d3e79977",
   "metadata": {},
   "outputs": [],
   "source": [
    "mutable struct Value{opType} <: Number\n",
    "    data::Float64\n",
    "    grad::Float64\n",
    "    op::opType\n",
    "end"
   ]
  },
  {
   "cell_type": "code",
   "execution_count": 3,
   "id": "dc155c84",
   "metadata": {},
   "outputs": [],
   "source": [
    "struct Operation{FuncType, ArgTypes}\n",
    "    op::FuncType\n",
    "    args::ArgTypes\n",
    "end"
   ]
  },
  {
   "cell_type": "code",
   "execution_count": 5,
   "id": "4f815136",
   "metadata": {},
   "outputs": [],
   "source": [
    "# constructor -- Value(data, grad, op)\n",
    "Value(x::Number) = Value(Float64(x), 0.0, nothing);"
   ]
  },
  {
   "cell_type": "code",
   "execution_count": 6,
   "id": "c38a715f",
   "metadata": {},
   "outputs": [
    {
     "data": {
      "text/plain": [
       "show (generic function with 262 methods)"
      ]
     },
     "execution_count": 6,
     "metadata": {},
     "output_type": "execute_result"
    }
   ],
   "source": [
    "import Base.show\n",
    "function show(io::IO, value::Value)\n",
    "    print(io, \"Value(\",value.data,\")\")\n",
    "end"
   ]
  },
  {
   "cell_type": "code",
   "execution_count": 12,
   "id": "6e8bcb56",
   "metadata": {},
   "outputs": [
    {
     "name": "stdout",
     "output_type": "stream",
     "text": [
      "Value(4.3)\n",
      "4.3\n",
      "0.0\n",
      "nothing\n"
     ]
    }
   ],
   "source": [
    "x = Value(4.3);\n",
    "\n",
    "println(x)\n",
    "println(x.data)\n",
    "println(x.grad)\n",
    "println(x.op)\n"
   ]
  },
  {
   "cell_type": "code",
   "execution_count": 13,
   "id": "18540433",
   "metadata": {},
   "outputs": [
    {
     "data": {
      "text/plain": [
       "== (generic function with 167 methods)"
      ]
     },
     "execution_count": 13,
     "metadata": {},
     "output_type": "execute_result"
    }
   ],
   "source": [
    "import Base.==\n",
    "function ==(a::Value, b::Value)\n",
    "     return a===b\n",
    "end"
   ]
  },
  {
   "cell_type": "code",
   "execution_count": 14,
   "id": "ca1fc2df",
   "metadata": {},
   "outputs": [
    {
     "name": "stdout",
     "output_type": "stream",
     "text": [
      "false\n",
      "true\n"
     ]
    }
   ],
   "source": [
    "x = Value(4)\n",
    "y = Value(4)\n",
    "\n",
    "println(x==y)\n",
    "# output: false\n",
    "\n",
    "z = x\n",
    "println(x==z)\n",
    "# output: true"
   ]
  }
 ],
 "metadata": {
  "kernelspec": {
   "display_name": "Julia 1.6.7",
   "language": "julia",
   "name": "julia-1.6"
  },
  "language_info": {
   "file_extension": ".jl",
   "mimetype": "application/julia",
   "name": "julia",
   "version": "1.6.7"
  }
 },
 "nbformat": 4,
 "nbformat_minor": 5
}
