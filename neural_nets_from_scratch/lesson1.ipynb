{
 "cells": [
  {
   "cell_type": "markdown",
   "id": "d522fb5f",
   "metadata": {},
   "source": [
    "# Neural Nets from Scratch in Julia\n",
    "\n",
    "## Lesson 1: Using SimpleGrad.jl \n",
    "\n",
    "* This is the finished product that we're going to build from scratch over the next several videos.\n",
    "* Demonstrating everything with *Value* objects. *Tensor* objects will be used later -- they're very similar to *Values* except they store arrays rather than numbers.\n",
    "* [Documentation site here](https://mikesaint-antoine.github.io/SimpleGrad.jl)\n",
    "* [Github repo here](https://github.com/mikesaint-antoine/SimpleGrad.jl)"
   ]
  },
  {
   "cell_type": "code",
   "execution_count": 2,
   "id": "65e56e32",
   "metadata": {},
   "outputs": [],
   "source": [
    "# using Pkg\n",
    "# Pkg.add(\"SimpleGrad\")\n",
    "\n",
    "using SimpleGrad"
   ]
  },
  {
   "cell_type": "code",
   "execution_count": 3,
   "id": "b58b86e0",
   "metadata": {},
   "outputs": [
    {
     "name": "stdout",
     "output_type": "stream",
     "text": [
      "Value(4.0)\n"
     ]
    }
   ],
   "source": [
    "x = Value(4.0)\n",
    "\n",
    "println(x)"
   ]
  },
  {
   "cell_type": "code",
   "execution_count": 7,
   "id": "1b9daba2",
   "metadata": {},
   "outputs": [
    {
     "name": "stdout",
     "output_type": "stream",
     "text": [
      "Tensor([1.0 2.0; 3.0 4.0])\n",
      "(2, 2)\n"
     ]
    }
   ],
   "source": [
    "a = Tensor([1.0 2.0;\n",
    "            3.0 4.0 ])\n",
    "\n",
    "println(a)\n",
    "println(size(a))"
   ]
  },
  {
   "cell_type": "code",
   "execution_count": 10,
   "id": "5f857934",
   "metadata": {},
   "outputs": [
    {
     "data": {
      "text/plain": [
       "0.0"
      ]
     },
     "execution_count": 10,
     "metadata": {},
     "output_type": "execute_result"
    }
   ],
   "source": [
    "x = Value(3)\n",
    "\n",
    "x.data\n",
    "x.grad"
   ]
  },
  {
   "cell_type": "code",
   "execution_count": 11,
   "id": "b6dadd8f",
   "metadata": {},
   "outputs": [
    {
     "name": "stdout",
     "output_type": "stream",
     "text": [
      "Value(7.0)\n"
     ]
    }
   ],
   "source": [
    "y = Value(4)\n",
    "\n",
    "z = x + y\n",
    "\n",
    "println(z)"
   ]
  },
  {
   "cell_type": "code",
   "execution_count": 12,
   "id": "7640bdfe",
   "metadata": {},
   "outputs": [],
   "source": [
    "backward(z)"
   ]
  },
  {
   "cell_type": "code",
   "execution_count": 14,
   "id": "bc607f4c",
   "metadata": {},
   "outputs": [
    {
     "name": "stdout",
     "output_type": "stream",
     "text": [
      "1.0\n",
      "1.0\n"
     ]
    }
   ],
   "source": [
    "println(x.grad) # dz/dx = 1\n",
    "println(y.grad) # dz/dy = 1"
   ]
  },
  {
   "cell_type": "code",
   "execution_count": 15,
   "id": "60fb6a8b",
   "metadata": {},
   "outputs": [
    {
     "name": "stdout",
     "output_type": "stream",
     "text": [
      "Value(12.0)\n"
     ]
    }
   ],
   "source": [
    "x = Value(6.0)\n",
    "y = Value(2.0)\n",
    "\n",
    "z = x * y\n",
    "\n",
    "println(z)"
   ]
  },
  {
   "cell_type": "code",
   "execution_count": 16,
   "id": "938aa4fa",
   "metadata": {},
   "outputs": [],
   "source": [
    "backward(z)"
   ]
  },
  {
   "cell_type": "code",
   "execution_count": 18,
   "id": "9b0ee12d",
   "metadata": {},
   "outputs": [
    {
     "name": "stdout",
     "output_type": "stream",
     "text": [
      "2.0\n",
      "6.0\n"
     ]
    }
   ],
   "source": [
    "println(x.grad) # dz/dx = y = 2\n",
    "println(y.grad) # dz/dy = x = 6"
   ]
  }
 ],
 "metadata": {
  "kernelspec": {
   "display_name": "Julia 1.6.7",
   "language": "julia",
   "name": "julia-1.6"
  },
  "language_info": {
   "file_extension": ".jl",
   "mimetype": "application/julia",
   "name": "julia",
   "version": "1.6.7"
  }
 },
 "nbformat": 4,
 "nbformat_minor": 5
}
