{
 "cells": [
  {
   "cell_type": "markdown",
   "id": "95b93dcb",
   "metadata": {},
   "source": [
    "# Intro to Bioinformatics\n",
    "## Project 2: GWAS (genomics)\n",
    "\n",
    "The goal for this project is to do a genome-wide association study (GWAS) using a mock dataset (since the real datasets required for this typically aren't publicly available).\n",
    "\n",
    "**DISCLAIMER:** the purpose of this analysis is to be educational and simplistic, not to follow current best-practices for GWAS. If you're doing this for real as part of a research project, you should probably use one of the standard GWAS software tools like [PLINK](https://www.cog-genomics.org/plink/2.0/)."
   ]
  },
  {
   "cell_type": "code",
   "execution_count": 1,
   "id": "e6922947",
   "metadata": {},
   "outputs": [],
   "source": [
    "import csv\n",
    "import numpy as np\n",
    "import matplotlib.pyplot as plt\n",
    "import statsmodels.api as sm\n",
    "\n",
    "# random seed for reproducibility\n",
    "np.random.seed(42)"
   ]
  },
  {
   "cell_type": "markdown",
   "id": "6c41eae1-f4fd-403c-9822-c7d8aba45db6",
   "metadata": {},
   "source": [
    "### **Step 1:** Logistic Regression Review (OPTIONAL)\n",
    "\n",
    "To check for a relationship between each SNP and the zombie phenotype, we'll use a logistic regression test. If you want to get a better idea of how this test works, check out this [great video series from Statquest](https://www.youtube.com/playlist?list=PLblh5JKOoLUKxzEP5HA2d-Li7IJkHfXSe). However, even though it's *good* to understand how this test works, it's not really *necessary* for the purposes of this class, so this section is optional.\n",
    "\n",
    "**The important thing is that it will give us a p-value for each SNP. Remember, a p-value tells us the probability of seeing a result (in this case, a relationship between SNP genotype and zombie phenotype) as extreme as the one we're seeing, by coincidence alone if nothing interesting is going on (called the null hypothesis -- in this case, that there is no true relationship between a SNP genotype and zombie phenotype). The lower the p-value, the more of a coincidence would be required to see the results we're seeing, under the assumption that the null hypothesis is true.**\n",
    "\n",
    "So that's the important part. It's good to know the details about how the test works, but if you find it confusing or don't understand some parts, don't worry!\n",
    "\n",
    "Anyway, before we get to the zombie dataset, we'll make up some example data for a single SNP to practice doing the logistic regression test."
   ]
  },
  {
   "cell_type": "code",
   "execution_count": 2,
   "id": "f5918dde-6198-46f6-9473-7f80bf43104f",
   "metadata": {},
   "outputs": [],
   "source": [
    "# making test data for one SNP\n",
    "\n",
    "N = 200\n",
    "\n",
    "p_control = 0.2\n",
    "p_case = 0.8\n",
    "\n",
    "snp_control = np.random.choice([0,1,2], size=int(N/2), p=[(1-p_control)**2, 2*p_control*(1-p_control), p_control**2])\n",
    "snp_case = np.random.choice([0,1,2], size=int(N/2), p=[(1-p_case )**2, 2*p_case *(1-p_case ), p_case**2])\n",
    "\n",
    "# combine\n",
    "snp = np.concatenate([snp_control, snp_case])\n",
    "labels = np.array([0]*100 + [1]*100)"
   ]
  },
  {
   "cell_type": "markdown",
   "id": "d6e95e34-5350-4593-b42f-f0c8cc00fb9a",
   "metadata": {},
   "source": [
    "Some quick checks..."
   ]
  },
  {
   "cell_type": "code",
   "execution_count": 3,
   "id": "31bed342-91aa-4b4d-8776-c6d382d39049",
   "metadata": {},
   "outputs": [
    {
     "name": "stdout",
     "output_type": "stream",
     "text": [
      "Genotype shape: (200,)\n",
      "First couple genotypes: [0 1 1 0 0 0 0 1 0 1]\n",
      "Unique genotype values: [0 1 2]\n",
      "\n",
      "Labels shape: (200,)\n",
      "First couple lables: [0 0 0 0 0 0 0 0 0 0]\n",
      "Unique lable values: [0 1]\n"
     ]
    }
   ],
   "source": [
    "print(\"Genotype shape:\", snp.shape)\n",
    "print(\"First couple genotypes:\", snp[0:10])\n",
    "print(\"Unique genotype values:\", np.unique(snp))\n",
    "print()\n",
    "print(\"Labels shape:\", labels.shape)\n",
    "print(\"First couple lables:\", labels[0:10])\n",
    "print(\"Unique lable values:\", np.unique(labels))\n"
   ]
  },
  {
   "cell_type": "markdown",
   "id": "e32903f6-110b-41bd-b491-e529002af59c",
   "metadata": {},
   "source": [
    "Next, we'll plot the data to visualize it."
   ]
  },
  {
   "cell_type": "code",
   "execution_count": 6,
   "id": "b87ce769-9515-4501-b895-1cfb7cd9a28d",
   "metadata": {},
   "outputs": [
    {
     "data": {
      "image/png": "[encoded data removed]",
      "text/plain": [
       "<Figure size 640x480 with 1 Axes>"
      ]
     },
     "metadata": {},
     "output_type": "display_data"
    }
   ],
   "source": [
    "plt.figure()\n",
    "# add small random noise for display\n",
    "x_jitter = snp + np.random.normal(0, 0.05, size=N)\n",
    "plt.scatter(x_jitter, labels, alpha=0.6)\n",
    "plt.yticks([0,1], [\"0 (Control)\", \"1 (Case)\"])\n",
    "plt.xticks([0,1,2], [\"0 (ref,ref)\", \"1 (ref,alt)\",\"2 (alt,alt)\"])\n",
    "\n",
    "plt.xlabel(\"Genotype\")\n",
    "plt.ylabel(\"Status\")\n",
    "plt.show()"
   ]
  },
  {
   "cell_type": "markdown",
   "id": "b71a858f-40c1-4411-a20f-92d1609652fb",
   "metadata": {},
   "source": [
    "The goal of logistic regression is to fit this equation to the data:\n",
    "\n",
    "$$\n",
    "{\\huge p(x) = \\dfrac{1}{1+e^{-(\\beta_0+\\beta_1 x)}}}\n",
    "$$"
   ]
  },
  {
   "cell_type": "markdown",
   "id": "7314f8f9-3dc0-461c-ada2-2d16465e1312",
   "metadata": {},
   "source": [
    "**$x \\in (0,1,2)$ :** the genotype of a given sample for a specific SNP. Could be 0 (ref,ref), 1 (ref,alt), or 2 (alt,alt).\n",
    "\n",
    "**$p(x)$ :** the predicted probability that a sample is a zombie, given what we know about it's genotype ($x$) for a particular SNP.\n",
    "\n",
    "**$\\beta_0$ :** a model parameter we'll fit to the data that is related to the baseline probability that a sample is a zombie, when a person has genotype $x=0$ (which nullifies the $\\beta_1$ term in the equation). A value of $\\beta_0 = 0$ corresponds to a baseline probability of 0.5 that a sample with genotype $x=0$ is a zombie: $p(0) =  \\frac{1}{1+e^{-(\\beta_0 + \\beta_1 x)}} = \\frac{1}{1+e^{-(0 + \\beta_1 0)}} = \\frac{1}{1+e^{0}} = \\frac{1}{1+1} = \\frac{1}{2} = 0.5$. A value of $\\beta_0$ other than 0 corresponds to a baseline probability of something other than 0.5 that a sample with a genotype of $x=0$ is a zombie.\n",
    "\n",
    "**$\\beta_1$ :** a model parameter we'll fit to the data that is related to how the probability that a sample is a zombie changes from the baseline if the person has genotype $x=1$ or $x=2$ (meaning either 1 or 2 copies of the alternate allele). A value of $\\beta_1 = 0$ means that the predicted probability that a sample with genotypes $x \\in (1,2)$ is a zombie is the same as the predicted probability for a sample with genotype $x=0$. In other words, a value of $\\beta_1 = 0$ means that our predicted probability that a sample is a probability is the same regardless of the SNP genotype. A value of $\\beta_1$ other than 0 means that we have different predicted zombie-probabilities for different genotypes.\n"
   ]
  },
  {
   "cell_type": "code",
   "execution_count": 7,
   "id": "5e8f3920-74c3-4a54-975a-c9d1c1cbf9ad",
   "metadata": {},
   "outputs": [
    {
     "data": {
      "image/png": "[encoded data removed]",
      "text/plain": [
       "<Figure size 640x480 with 1 Axes>"
      ]
     },
     "metadata": {},
     "output_type": "display_data"
    }
   ],
   "source": [
    "def logistic(x, beta_0, beta_1):\n",
    "    return 1 / (1 + np.exp(-(beta_0 + beta_1 * x)))\n",
    "\n",
    "x_vals = np.linspace(0, 2, 300)\n",
    "\n",
    "plt.figure()\n",
    "# three example parameter sets\n",
    "for b0, b1 in [(0, 1), (-2, 2), (2, -1)]:\n",
    "    plt.plot(x_vals, logistic(x_vals, b0, b1), label=f\"beta_0={b0}, beta_1={b1}\")\n",
    "plt.scatter([], [], label=\"↑ examples\", alpha=0)  # placeholder for legend\n",
    "plt.xlabel(\"Genotype\")\n",
    "plt.ylabel(\"Predicted zombie-probability\")\n",
    "\n",
    "plt.yticks([0,1], [\"0\", \"1\"])\n",
    "plt.xticks([0,1,2], [\"0 (ref,ref)\", \"1 (ref,alt)\",\"2 (alt,alt)\"])\n",
    "plt.title(\"Example Logistic Curves\\n(varying beta_0 and beta_1)\")\n",
    "plt.legend()\n",
    "plt.show()"
   ]
  },
  {
   "cell_type": "markdown",
   "id": "ad6a1d20-633f-4b14-9da9-82d42f2d67a4",
   "metadata": {},
   "source": [
    "So for a given SNP, where we know the genotype and zombie status of each sample, our goal is to find the values of $\\beta_0$ and $\\beta_1$ for which the curve $p(x) = \\dfrac{1}{1+e^{-(\\beta_0+\\beta_1 x)}}$ best fits the data. To put it in technical terms, we want to find the values of the parameters that [maximize the log-likelihood of the observed data.](https://en.wikipedia.org/wiki/Maximum_likelihood_estimation) If you don't know what that means, don't worry -- the Python [Statsmodels](https://www.statsmodels.org/stable/index.html) package will take care of it for us. (But if you *want* to understand how this is done, check out the [Statquest videos.](https://www.youtube.com/playlist?list=PLblh5JKOoLUKxzEP5HA2d-Li7IJkHfXSe)\n",
    "\n",
    "Here's the code to perform the logistic regression for our example SNP:"
   ]
  },
  {
   "cell_type": "code",
   "execution_count": 8,
   "id": "682bc318-e0f7-452a-8cd4-20eab0e20b59",
   "metadata": {},
   "outputs": [
    {
     "name": "stdout",
     "output_type": "stream",
     "text": [
      "                           Logit Regression Results                           \n",
      "==============================================================================\n",
      "Dep. Variable:                      y   No. Observations:                  200\n",
      "Model:                          Logit   Df Residuals:                      198\n",
      "Method:                           MLE   Df Model:                            1\n",
      "Date:                Sat, 26 Jul 2025   Pseudo R-squ.:                  0.4584\n",
      "Time:                        13:01:51   Log-Likelihood:                -75.087\n",
      "converged:                       True   LL-Null:                       -138.63\n",
      "Covariance Type:            nonrobust   LLR p-value:                 1.779e-29\n",
      "==============================================================================\n",
      "                 coef    std err          z      P>|z|      [0.025      0.975]\n",
      "------------------------------------------------------------------------------\n",
      "const         -2.6200      0.400     -6.556      0.000      -3.403      -1.837\n",
      "x1             2.7883      0.367      7.589      0.000       2.068       3.508\n",
      "==============================================================================\n"
     ]
    }
   ],
   "source": [
    "# add constant column for intercept\n",
    "X = sm.add_constant(snp)\n",
    "model = sm.Logit(labels, X)\n",
    "result = model.fit(disp=False)\n",
    "\n",
    "print(result.summary())"
   ]
  },
  {
   "cell_type": "markdown",
   "id": "233ac029-c4ad-46c6-a7bb-5548a98956e0",
   "metadata": {},
   "source": [
    "There's a lot of information here, but the important part is the fit values for our $\\beta_0$ and $\\beta_1$ model parameters. We can grab those with this code:"
   ]
  },
  {
   "cell_type": "code",
   "execution_count": 9,
   "id": "504b89c2-3c3b-4c9f-a69c-916663108e18",
   "metadata": {},
   "outputs": [
    {
     "name": "stdout",
     "output_type": "stream",
     "text": [
      "Fit beta_0: -2.62\n",
      "Fit beta_1: 2.788\n"
     ]
    }
   ],
   "source": [
    "fit_beta_0, fit_beta_1 = result.params\n",
    "\n",
    "print(f\"Fit beta_0: {round(fit_beta_0,3)}\")\n",
    "print(f\"Fit beta_1: {round(fit_beta_1,3)}\")"
   ]
  },
  {
   "cell_type": "markdown",
   "id": "e53d8632-0b69-4d14-89fb-f054f9989576",
   "metadata": {},
   "source": [
    "**NOTE:** we'll refer to the estimated parameter values that we got by fitting the model as $\\hat{\\beta_0}$ and $\\hat{\\beta_1}$ (pronounched beta-1-hat and beta-2-hat -- or simply fit-beta-1 and fit-beta-2). There is a subtle but important difference between the parameter estimates $\\hat{\\beta_0}$ and $\\hat{\\beta_1}$ that we get by fitting the model to the data, and the true underlying values of $\\beta_0$ and $\\beta_1$, that we can never be sure about, but that we are trying to estimate."
   ]
  },
  {
   "cell_type": "markdown",
   "id": "a592f05c-df03-4340-ace2-a9ddc08e02d1",
   "metadata": {},
   "source": [
    "Then we can use these fit values $\\hat{\\beta_0}$ and $\\hat{\\beta_1}$ to plot the fit logistic curve:"
   ]
  },
  {
   "cell_type": "code",
   "execution_count": 10,
   "id": "e26d0b84-36d6-44d3-a27c-1fd8acbfea44",
   "metadata": {},
   "outputs": [
    {
     "data": {
      "image/png": "[encoded data removed]",
      "text/plain": [
       "<Figure size 640x480 with 1 Axes>"
      ]
     },
     "metadata": {},
     "output_type": "display_data"
    }
   ],
   "source": [
    "plt.figure()\n",
    "# scatter raw data\n",
    "plt.scatter(x_jitter, labels, alpha=0.6)\n",
    "\n",
    "# logistic curve using fitted params\n",
    "x_plot = np.linspace(0, 2, 200)\n",
    "y_plot = logistic(x_plot, fit_beta_0, fit_beta_1)\n",
    "plt.plot(x_plot, y_plot, linewidth=2)\n",
    "\n",
    "plt.yticks([0,1], [\"Control\", \"Case\"])\n",
    "plt.xlabel(\"Genotype\")\n",
    "plt.ylabel(\"Status / Predicted probability\")\n",
    "plt.yticks([0,1], [\"0 (Normal)\", \"1 (Zombie)\"])\n",
    "plt.xticks([0,1,2], [\"0 (ref,ref)\", \"1 (ref,alt)\",\"2 (alt,alt)\"])\n",
    "\n",
    "plt.show()"
   ]
  },
  {
   "cell_type": "markdown",
   "id": "8ab4f351-3792-4f76-8944-872f59b67650",
   "metadata": {},
   "source": [
    "We can also use these fit parameter values to calculate the predicted zombie-probabilities for each genotype:"
   ]
  },
  {
   "cell_type": "code",
   "execution_count": 11,
   "id": "936d2a1a-4486-4cc1-ba9a-0ee54a99a5ff",
   "metadata": {},
   "outputs": [
    {
     "name": "stdout",
     "output_type": "stream",
     "text": [
      "Zombie-probability, genotype 0 (ref,ref) = 0.068\n",
      "\n",
      "Zombie-probability, genotype 1 (ref,alt) = 0.542\n",
      "\n",
      "Zombie-probability, genotype 2 (alt,alt) = 0.951\n",
      "\n"
     ]
    }
   ],
   "source": [
    "prob_0 = logistic(0, fit_beta_0, fit_beta_1)\n",
    "print(f\"Zombie-probability, genotype 0 (ref,ref) = {round(prob_0,3)}\")\n",
    "print()\n",
    "\n",
    "prob_1 = logistic(1, fit_beta_0, fit_beta_1)\n",
    "print(f\"Zombie-probability, genotype 1 (ref,alt) = {round(prob_1,3)}\")\n",
    "print()\n",
    "\n",
    "prob_2 = logistic(2, fit_beta_0, fit_beta_1)\n",
    "print(f\"Zombie-probability, genotype 2 (alt,alt) = {round(prob_2,3)}\")\n",
    "print()"
   ]
  },
  {
   "cell_type": "markdown",
   "id": "32ffa6ad-a4ae-44c8-aeb9-ebd59779bd53",
   "metadata": {},
   "source": [
    "Lastly, we can grab the p-value for the $\\beta_1$ parameter (the parameter that multiplies the genotype):"
   ]
  },
  {
   "cell_type": "code",
   "execution_count": 12,
   "id": "8209e33c-1fbe-4767-bf8d-4ad7fc8ee2e4",
   "metadata": {},
   "outputs": [
    {
     "name": "stdout",
     "output_type": "stream",
     "text": [
      "3.23544408758897e-14\n"
     ]
    }
   ],
   "source": [
    "p_value = result.pvalues[1]\n",
    "print(p_value)"
   ]
  },
  {
   "cell_type": "markdown",
   "id": "c281ffa4-bd5b-4fa8-ace7-10bfc0882b74",
   "metadata": {},
   "source": [
    "Again, all of this extra information is good to know, but for the GWAS we're about to do, the p-value for the $\\beta_1$ parameter is the important part.\n",
    "\n",
    "**p-value (technical definition for this model):** the probability of observing a fitted value $(\\hat\\beta_1)$ at least as extreme as the one we obtained (measured in standard‑error units from 0), due to random sampling, if the true underlying parameter value is $\\beta_1 = 0$ (meaning no relationship between SNP genotype and zombie phenotype).\n",
    "\n",
    "**p-value (sloppy but easy-to-understand defintion, fine for our purposes):** probability of seeing a skew in the data between SNP-genotype and zombie-phenotype by coincidence if there were no true underlying relationship."
   ]
  },
  {
   "cell_type": "markdown",
   "id": "b16fb90f-b3d9-4087-b891-fca95710dcb0",
   "metadata": {},
   "source": [
    "One last thing -- for this project, we're doing a simplified analysis where we only know the genotype and zombie-status for each sample, and have no other information about the person. But in a real-life GWAS we'd probably have more information, like the person's age, sex, ethnicity, health background, etc, that might also be relevant. A nice thing about the logistic regression model is that we can easily add in more predictor variables to test besides just the genotype. So let's say that in addition to having the genotype $x$, we also have two more predictor variables $y$ and $z$. Maybe $y \\in (0,1)$ tells us whether the person was a smoker or not, with $y=0$ corresponding to a non-smoker and $y=1$ corresponding to a smoker. And maybe $z$ is the person's age.\n",
    "\n",
    "Then the equation for the probability curve would look like this, with two new parameters $\\beta_2$ and $\\beta_3$, to account for the effects of $y$ and $z$ on the zombie-probability:\n",
    "\n",
    "$$\n",
    "{\\huge p(x) = \\dfrac{1}{1+e^{-(\\beta_0+\\beta_1 x +\\beta_2 y +\\beta_3 z)}}}\n",
    "$$\n",
    "\n",
    "Here's how we would run the logistic regression in Python, including these covariates:"
   ]
  },
  {
   "cell_type": "code",
   "execution_count": 13,
   "id": "5814cf10-afec-4fd3-8638-1596b9a4bda6",
   "metadata": {},
   "outputs": [
    {
     "name": "stdout",
     "output_type": "stream",
     "text": [
      "                           Logit Regression Results                           \n",
      "==============================================================================\n",
      "Dep. Variable:                      y   No. Observations:                  200\n",
      "Model:                          Logit   Df Residuals:                      196\n",
      "Method:                           MLE   Df Model:                            3\n",
      "Date:                Sat, 26 Jul 2025   Pseudo R-squ.:                  0.4650\n",
      "Time:                        13:11:40   Log-Likelihood:                -74.166\n",
      "converged:                       True   LL-Null:                       -138.63\n",
      "Covariance Type:            nonrobust   LLR p-value:                 9.215e-28\n",
      "==============================================================================\n",
      "                 coef    std err          z      P>|z|      [0.025      0.975]\n",
      "------------------------------------------------------------------------------\n",
      "const         -3.7794      1.193     -3.168      0.002      -6.117      -1.441\n",
      "x1             2.8574      0.377      7.581      0.000       2.119       3.596\n",
      "x2             0.4615      0.440      1.050      0.294      -0.400       1.323\n",
      "x3             0.0185      0.021      0.878      0.380      -0.023       0.060\n",
      "==============================================================================\n"
     ]
    }
   ],
   "source": [
    "# binary smoker status: ~30% smokers\n",
    "smoker_status = np.random.binomial(1, 0.3, size=len(labels))\n",
    "\n",
    "# age in years: mean 50, sd 10\n",
    "age = np.random.normal(loc=50, scale=10, size=N).astype(int)\n",
    "\n",
    "X = np.column_stack((snp, smoker_status, age))\n",
    "X = sm.add_constant(X)  \n",
    "# columns: constant, snp, smoker, age\n",
    "\n",
    "model = sm.Logit(labels, X)\n",
    "result = model.fit(disp=False)\n",
    "\n",
    "print(result.summary())"
   ]
  },
  {
   "cell_type": "markdown",
   "id": "2cee9ee4-6959-4228-8ad2-4f5ab471496f",
   "metadata": {},
   "source": [
    "**NOTE:** Adding these covariates actually changes the meaning and interpretation of the $\\beta_0$ constant parameter. When we were including only genotypes, it told us the baseline zombie-probability for samples with genotype $x=0$. Now, it tells us the baseline probability for samples with genotype $x=0$, smoker status $y=0$, and age $z=0$. The age $z=0$ part doesn't make any sense, so there is no longer a meaningful interpretation of the value of $\\beta_0$. (Although if we wanted to, we could center $z$ around the average age, so that $\\beta_0$ would tell us the baseline zombie-probability for non-smokers of the average age with genotype $x=0$.)\n",
    "\n",
    "Anyway, for the educational purposes of this project, we're going to keep things simple and assume that we have only the zombie-status and genotypes for each sample, and don't have any additional covariate information."
   ]
  },
  {
   "cell_type": "markdown",
   "id": "da13ff02",
   "metadata": {},
   "source": [
    "### **Step 2:** Reading in the Data\n",
    "\n",
    "In our mock dataset, there is a row for each SNP. For each row, the first three columns contain the information about the SNP: snp_id (chromosome number and position), the reference allele/nucleotide, and the alternate allele/nucleotide. \n",
    "\n",
    "Then, there are 200 columns, corresponding to the 200 samples labeled in the heading row. The first 100 are the control samples (those that didn't turn into zombies). The next 100 are the \"case\" samples -- those that did turn into zombies. For each SNP, the column for each samples contains a 0, 1, or 2. This tells us how many copies of the alternate allele the person had. All SNPs in this dataset have only one possible alternate allele, so for our purposes a 0 means they were homozygous for the reference allele, 1 means they were heterozygous (one of each), and 2 means homozygous for the alternate allele.\n",
    "\n",
    "**NOTE:** in real datasets, it is not always safe to assume that a 0 means they had 2 copies of the reference allele (or that a 1 means one of each), because the same SNP position could have more than one alternate allele. But for the educational purposes of this project we'll assume that each chromosome position has only one possible alternate allele, so a 0 in the spreadsheet implies 2 copies of the reference allele, and 1 means one of each.\n",
    "\n",
    "To start, let's read in all this data. We'll store the first four columns in a list called `snp_info`, and the rest in a list of lists called `data`."
   ]
  },
  {
   "cell_type": "code",
   "execution_count": 14,
   "id": "307ec9d2",
   "metadata": {},
   "outputs": [],
   "source": [
    "snp_info = []\n",
    "data = []\n",
    "with open(\"data/example_data.csv\") as csvfile:\n",
    "    reader = csv.reader(csvfile, delimiter=',')\n",
    "\n",
    "    for row in reader:\n",
    "\n",
    "        snp_info.append(row[0:3])\n",
    "        data.append(row[3:])"
   ]
  },
  {
   "cell_type": "markdown",
   "id": "525a7bf6",
   "metadata": {},
   "source": [
    "The first row was the column headings, so we'll remove that from both `snp_info` and `data` and store it separately."
   ]
  },
  {
   "cell_type": "code",
   "execution_count": 15,
   "id": "f26650bf",
   "metadata": {},
   "outputs": [],
   "source": [
    "snp_header = snp_info[0]\n",
    "snp_info = snp_info[1:]\n",
    "\n",
    "samples = data[0]\n",
    "data = data[1:]"
   ]
  },
  {
   "cell_type": "markdown",
   "id": "963be8a4",
   "metadata": {},
   "source": [
    "Next, we'll cast all these lists to NumPy arrays to make them easier to work with. And remember, we need to cast the elements in `data` to ints since they were read in as strings by default."
   ]
  },
  {
   "cell_type": "code",
   "execution_count": 16,
   "id": "059619d3",
   "metadata": {},
   "outputs": [],
   "source": [
    "snp_info = np.array(snp_info)\n",
    "data = np.array(data).astype(int)\n",
    "\n",
    "snp_header = np.array(snp_header)\n",
    "samples = np.array(samples)"
   ]
  },
  {
   "cell_type": "markdown",
   "id": "5cb57d95",
   "metadata": {},
   "source": [
    "Quick shape check..."
   ]
  },
  {
   "cell_type": "code",
   "execution_count": 17,
   "id": "3ade6308",
   "metadata": {},
   "outputs": [
    {
     "name": "stdout",
     "output_type": "stream",
     "text": [
      "(48752, 3)\n",
      "(48752, 200)\n",
      "\n",
      "(3,)\n",
      "(200,)\n"
     ]
    }
   ],
   "source": [
    "print(snp_info.shape)\n",
    "print(data.shape)\n",
    "print()\n",
    "print(snp_header.shape)\n",
    "print(samples.shape)"
   ]
  },
  {
   "cell_type": "markdown",
   "id": "2f95952b",
   "metadata": {},
   "source": [
    "Quick content check..."
   ]
  },
  {
   "cell_type": "code",
   "execution_count": 18,
   "id": "17290504",
   "metadata": {},
   "outputs": [
    {
     "name": "stdout",
     "output_type": "stream",
     "text": [
      "snp_header:\n",
      "['snp_id' 'ref' 'var']\n",
      "\n",
      "samples:\n",
      "['normal_1' 'normal_2' 'normal_3']\n",
      "\n",
      "snp_info:\n",
      "[['chr1:944564' 'T' 'C']\n",
      " ['chr1:950243' 'A' 'C']\n",
      " ['chr1:959842' 'C' 'T']\n",
      " ['chr1:990417' 'T' 'C']\n",
      " ['chr1:1297065' 'C' 'T']]\n",
      "\n",
      "data:\n",
      "[[2 2 1]\n",
      " [0 1 1]\n",
      " [1 2 1]\n",
      " [0 2 2]\n",
      " [2 1 0]]\n",
      "\n"
     ]
    }
   ],
   "source": [
    "print(\"snp_header:\")\n",
    "print(snp_header)\n",
    "print()\n",
    "\n",
    "print(\"samples:\")\n",
    "print(samples[0:3])\n",
    "print()\n",
    "\n",
    "print(\"snp_info:\")\n",
    "print(snp_info[0:5])\n",
    "print()\n",
    "\n",
    "print(\"data:\")\n",
    "print(data[0:5,0:3])\n",
    "print()"
   ]
  },
  {
   "cell_type": "markdown",
   "id": "d36e377f",
   "metadata": {},
   "source": [
    "Next we want to make an array with the case/control (zombie/normal) labels for each sample. We can do this with some pretty basic string manipulation."
   ]
  },
  {
   "cell_type": "code",
   "execution_count": 19,
   "id": "2795c05f",
   "metadata": {},
   "outputs": [],
   "source": [
    "labels = []\n",
    "\n",
    "for i in range(len(samples)):\n",
    "    tmp = samples[i].split(\"_\")\n",
    "    labels.append(tmp[0])\n",
    "    \n",
    "labels = np.array(labels)"
   ]
  },
  {
   "cell_type": "markdown",
   "id": "d8800752",
   "metadata": {},
   "source": [
    "Quick checks..."
   ]
  },
  {
   "cell_type": "code",
   "execution_count": 20,
   "id": "9f914852",
   "metadata": {},
   "outputs": [
    {
     "name": "stdout",
     "output_type": "stream",
     "text": [
      "['normal' 'normal' 'normal' 'normal' 'normal']\n",
      "['normal' 'zombie']\n"
     ]
    }
   ],
   "source": [
    "print(labels[0:5])\n",
    "\n",
    "print(np.unique(labels))"
   ]
  },
  {
   "cell_type": "markdown",
   "id": "2c7d7359",
   "metadata": {},
   "source": [
    "### **Step 3:** Minor Allele Frequency Filter\n",
    "\n",
    "Before doing the GWAS analysis, we'll filter down our list of SNPs a bit and keep only the ones that have sufficient representation of both the reference and alternate alleles, since these are the ones that will be interesting to look at.\n",
    "\n",
    "To do this, we'll calculate the **minor allele frequency (MAF)** for each SNP. Note: \"minor allele\" here just means the less common allele of the two, and can be either the reference or alternate allele. Before we do the filter, let's practice calculating this number for just the first SNP."
   ]
  },
  {
   "cell_type": "code",
   "execution_count": 21,
   "id": "2f73907f",
   "metadata": {},
   "outputs": [
    {
     "name": "stdout",
     "output_type": "stream",
     "text": [
      "[2 2 1 1 2 1 2 0 1 1 2 0 2 1 0 0 0 0 1 0 1 1 2 2 1 1 1 1 1 0 2 2 0 0 2 2 2\n",
      " 1 2 2 2 1 0 1 2 1 2 2 2 1 1 2 1 1 0 1 1 2 0 1 1 2 1 2 2 0 2 2 1 0 0 1 1 2\n",
      " 2 2 2 1 1 2 2 1 1 1 2 1 1 2 2 2 1 2 1 0 1 2 2 2 2 1 1 2 1 0 2 0 1 0 2 1 2\n",
      " 2 1 2 1 2 1 1 2 2 0 1 1 2 1 0 1 1 2 2 1 0 2 1 1 2 2 0 2 2 1 2 2 1 2 2 0 1\n",
      " 2 0 1 0 2 2 0 1 1 2 0 1 2 2 2 1 2 2 2 2 0 1 2 1 1 1 1 0 0 2 0 1 1 0 1 2 2\n",
      " 1 2 1 1 2 1 2 0 1 1 0 2 1 1 0]\n"
     ]
    }
   ],
   "source": [
    "first_snp = data[0,:]\n",
    "\n",
    "print(first_snp)"
   ]
  },
  {
   "cell_type": "markdown",
   "id": "1b067c22",
   "metadata": {},
   "source": [
    "To get the MAF, we'll need the total count of all alleles for the SNP. Since every sample has 2 alleles, we can get this by multiplying the number of samples by 2. This should give us 400."
   ]
  },
  {
   "cell_type": "code",
   "execution_count": 22,
   "id": "b260aec2",
   "metadata": {},
   "outputs": [
    {
     "name": "stdout",
     "output_type": "stream",
     "text": [
      "400\n"
     ]
    }
   ],
   "source": [
    "total_alleles_per_snp = len(samples)*2\n",
    "\n",
    "print(total_alleles_per_snp)"
   ]
  },
  {
   "cell_type": "markdown",
   "id": "53c593a6",
   "metadata": {},
   "source": [
    "Next, we need the reference allele count for the first SNP. Remember, if a sample is labeled with `0`, that means it has 2 copies of the reference allele (\"homozygous\" for the reference allele). If it's labeled with `1`, that means it has 1 copy of the reference allele (\"heterozygous\"). So we can get the reference allele count for the first SNP like this:"
   ]
  },
  {
   "cell_type": "code",
   "execution_count": 23,
   "id": "1d26dddd",
   "metadata": {},
   "outputs": [
    {
     "name": "stdout",
     "output_type": "stream",
     "text": [
      "155\n"
     ]
    }
   ],
   "source": [
    "ref_allele_count = 2 * np.sum(first_snp == 0) + np.sum(first_snp == 1)\n",
    "# purposely writing this in a mathematically inefficient way to communicate the point\n",
    "# could just be total_alleles_per_snp - np.sum(first_snp)\n",
    "\n",
    "print(ref_allele_count)"
   ]
  },
  {
   "cell_type": "markdown",
   "id": "e1482a60",
   "metadata": {},
   "source": [
    "Now we'll get the alternate allele count. If a sample is labeled with `2`, that means it has 2 copies of the variant allele (\"homozygous\" for the alternate allele), and if it's labeled with `1`, that means it has 1 copy (\"heterozygous\")."
   ]
  },
  {
   "cell_type": "code",
   "execution_count": 24,
   "id": "c711d60b",
   "metadata": {},
   "outputs": [
    {
     "name": "stdout",
     "output_type": "stream",
     "text": [
      "245\n"
     ]
    }
   ],
   "source": [
    "alt_allele_count = 2 * np.sum(first_snp == 2) + np.sum(first_snp == 1)\n",
    "# purposely writing this in a mathematically inefficient way to communicate the point\n",
    "# could just be np.sum(first_snp)\n",
    "\n",
    "print(alt_allele_count)"
   ]
  },
  {
   "cell_type": "markdown",
   "id": "2f4dbcf4",
   "metadata": {},
   "source": [
    "Now we'll compute the minor allele frequency. Remember, \"minor allele\" just means the less common one, and it can be either the reference allele or the alternate allele. So we'll use `min(ref_allele_count, alt_allele_count)` to select the less common of the two, and then divide by `total_alleles_per_snp` to get the frequency."
   ]
  },
  {
   "cell_type": "code",
   "execution_count": 25,
   "id": "2c6835a6",
   "metadata": {},
   "outputs": [
    {
     "name": "stdout",
     "output_type": "stream",
     "text": [
      "0.3875\n"
     ]
    }
   ],
   "source": [
    "maf = min(ref_allele_count, alt_allele_count) / total_alleles_per_snp\n",
    "\n",
    "print(maf)"
   ]
  },
  {
   "cell_type": "markdown",
   "id": "052aa6bd",
   "metadata": {},
   "source": [
    "Ok! Now that we have our minor allele frequency, we can decide to keep or filter out the SNP, based on whether or not it passes a threshold that we set. Common thresholds are `0.01` or `0.05`, so using either one of those we'd end up keeping this SNP.\n",
    "\n",
    "Now we can go through and do this calculation for every SNP, and keep a record of the ones that pass the threshold, which we'll set to `0.05`."
   ]
  },
  {
   "cell_type": "code",
   "execution_count": 26,
   "id": "61b8af10",
   "metadata": {},
   "outputs": [],
   "source": [
    "maf_threshold = 0.05\n",
    "total_alleles_per_snp = len(samples)*2\n",
    "\n",
    "\n",
    "to_keep = []\n",
    "\n",
    "for i in range(data.shape[0]):\n",
    "\n",
    "    # again writing these in a mathematically inefficient way to hopefully make it clear what we're counting\n",
    "    ref_allele_count = 2 * np.sum(data[i,:] == 0) + np.sum(data[i,:] == 1)\n",
    "    alt_allele_count = 2 * np.sum(data[i,:] == 2) + np.sum(data[i,:] == 1)\n",
    "\n",
    "    maf = min(ref_allele_count, alt_allele_count) / total_alleles_per_snp\n",
    "\n",
    "    if maf >= maf_threshold:\n",
    "        to_keep.append(True)\n",
    "    else:\n",
    "        to_keep.append(False)"
   ]
  },
  {
   "cell_type": "markdown",
   "id": "2554a3ff",
   "metadata": {},
   "source": [
    "Now we apply the filter:"
   ]
  },
  {
   "cell_type": "code",
   "execution_count": 27,
   "id": "7013554f",
   "metadata": {},
   "outputs": [
    {
     "name": "stdout",
     "output_type": "stream",
     "text": [
      "shape checks:\n",
      "(43908, 3)\n",
      "(43908, 200)\n",
      "\n",
      "Percent kept: 90.06399737446668\n"
     ]
    }
   ],
   "source": [
    "to_keep = np.array(to_keep)\n",
    "\n",
    "filtered_snp_info = snp_info[to_keep,:]\n",
    "filtered_data = data[to_keep,:]\n",
    "\n",
    "\n",
    "print(\"shape checks:\")\n",
    "print(filtered_snp_info.shape)\n",
    "print(filtered_data.shape)\n",
    "print()\n",
    "\n",
    "print(f\"Percent kept: {filtered_data.shape[0] / data.shape[0] * 100}\")"
   ]
  },
  {
   "cell_type": "markdown",
   "id": "8f6a1c1c",
   "metadata": {},
   "source": [
    "### **Step 4:** GWAS Analysis\n",
    "\n",
    "Now, we'll check each SNP to see if its distribution differs significantly between the zombie/normal phenotypes. To do this, we'll use the logistic regression test that we previously reviewed, from the `statsmodels.api`.\n",
    "\n",
    "To start, we're going to convert our `labels` array to a binary array, where 1 means \"zombie\" and 0 means \"normal\". This will make some of the following steps easier. Here's how we do that:"
   ]
  },
  {
   "cell_type": "code",
   "execution_count": 28,
   "id": "37dc0d76",
   "metadata": {},
   "outputs": [
    {
     "name": "stdout",
     "output_type": "stream",
     "text": [
      "[0 0 0 0 0 0 0 0 0 0 0 0 0 0 0 0 0 0 0 0 0 0 0 0 0 0 0 0 0 0 0 0 0 0 0 0 0\n",
      " 0 0 0 0 0 0 0 0 0 0 0 0 0 0 0 0 0 0 0 0 0 0 0 0 0 0 0 0 0 0 0 0 0 0 0 0 0\n",
      " 0 0 0 0 0 0 0 0 0 0 0 0 0 0 0 0 0 0 0 0 0 0 0 0 0 0 1 1 1 1 1 1 1 1 1 1 1\n",
      " 1 1 1 1 1 1 1 1 1 1 1 1 1 1 1 1 1 1 1 1 1 1 1 1 1 1 1 1 1 1 1 1 1 1 1 1 1\n",
      " 1 1 1 1 1 1 1 1 1 1 1 1 1 1 1 1 1 1 1 1 1 1 1 1 1 1 1 1 1 1 1 1 1 1 1 1 1\n",
      " 1 1 1 1 1 1 1 1 1 1 1 1 1 1 1]\n"
     ]
    }
   ],
   "source": [
    "encoded_labels = np.where(labels == \"zombie\", 1, 0)\n",
    "\n",
    "print(encoded_labels)"
   ]
  },
  {
   "cell_type": "markdown",
   "id": "71940f04",
   "metadata": {},
   "source": [
    "Now, let's try out the logistic regression test on just the first SNP, to make sure it's working properly. We'll start by getting all the genotypes for that SNP like this:"
   ]
  },
  {
   "cell_type": "code",
   "execution_count": 29,
   "id": "f02fb3ae",
   "metadata": {},
   "outputs": [],
   "source": [
    "first_snp = filtered_data[0, :]"
   ]
  },
  {
   "cell_type": "markdown",
   "id": "9449422c",
   "metadata": {},
   "source": [
    "Remember, this tells us whether each sample was homozygous for the reference nucleotide (0), heterozygous (1), or homozygous for the variant nucleotide (2), for all 200 of of samples. Let's take a look."
   ]
  },
  {
   "cell_type": "code",
   "execution_count": 30,
   "id": "e7893cc6",
   "metadata": {},
   "outputs": [
    {
     "name": "stdout",
     "output_type": "stream",
     "text": [
      "[2 2 1 1 2 1 2 0 1 1 2 0 2 1 0 0 0 0 1 0 1 1 2 2 1 1 1 1 1 0 2 2 0 0 2 2 2\n",
      " 1 2 2 2 1 0 1 2 1 2 2 2 1 1 2 1 1 0 1 1 2 0 1 1 2 1 2 2 0 2 2 1 0 0 1 1 2\n",
      " 2 2 2 1 1 2 2 1 1 1 2 1 1 2 2 2 1 2 1 0 1 2 2 2 2 1 1 2 1 0 2 0 1 0 2 1 2\n",
      " 2 1 2 1 2 1 1 2 2 0 1 1 2 1 0 1 1 2 2 1 0 2 1 1 2 2 0 2 2 1 2 2 1 2 2 0 1\n",
      " 2 0 1 0 2 2 0 1 1 2 0 1 2 2 2 1 2 2 2 2 0 1 2 1 1 1 1 0 0 2 0 1 1 0 1 2 2\n",
      " 1 2 1 1 2 1 2 0 1 1 0 2 1 1 0]\n"
     ]
    }
   ],
   "source": [
    "print(first_snp)"
   ]
  },
  {
   "cell_type": "markdown",
   "id": "eb995c27",
   "metadata": {},
   "source": [
    "Now, we'll apply the logistic regression test."
   ]
  },
  {
   "cell_type": "code",
   "execution_count": 31,
   "id": "74c998fe",
   "metadata": {},
   "outputs": [
    {
     "name": "stdout",
     "output_type": "stream",
     "text": [
      "                           Logit Regression Results                           \n",
      "==============================================================================\n",
      "Dep. Variable:                      y   No. Observations:                  200\n",
      "Model:                          Logit   Df Residuals:                      198\n",
      "Method:                           MLE   Df Model:                            1\n",
      "Date:                Sat, 26 Jul 2025   Pseudo R-squ.:               0.0008285\n",
      "Time:                        13:43:50   Log-Likelihood:                -138.51\n",
      "converged:                       True   LL-Null:                       -138.63\n",
      "Covariance Type:            nonrobust   LLR p-value:                    0.6317\n",
      "==============================================================================\n",
      "                 coef    std err          z      P>|z|      [0.025      0.975]\n",
      "------------------------------------------------------------------------------\n",
      "const          0.1126      0.274      0.410      0.682      -0.425       0.650\n",
      "x1            -0.0919      0.192     -0.479      0.632      -0.468       0.284\n",
      "==============================================================================\n"
     ]
    }
   ],
   "source": [
    "X = sm.add_constant(first_snp)\n",
    "result = sm.Logit(encoded_labels, X).fit(disp=False)\n",
    "\n",
    "print(result.summary())"
   ]
  },
  {
   "cell_type": "markdown",
   "id": "e6661927-3c16-4126-937a-54dae01f7792",
   "metadata": {},
   "source": [
    "The test result gives us a lot of information, but the only thing we really need for this project is the p-value. Here's how we can grab it:"
   ]
  },
  {
   "cell_type": "code",
   "execution_count": 32,
   "id": "b7522949-7c5e-4f1d-a139-a07cfd4ee637",
   "metadata": {},
   "outputs": [
    {
     "name": "stdout",
     "output_type": "stream",
     "text": [
      "0.6319294941622751\n"
     ]
    }
   ],
   "source": [
    "p_value = result.pvalues[1] # p‑value for the SNP term\n",
    "\n",
    "print(p_value)"
   ]
  },
  {
   "cell_type": "markdown",
   "id": "f7abad43-3a44-4584-8f59-2d633198fb3d",
   "metadata": {},
   "source": [
    "Remember, the p-value tells us the probability of seeing a difference between zombie/normal genotypes at least as extreme as the one we're seeing, by coincidence alone, if the null hypothesis were true (that is, if there were no underlying difference between the zombie/normal genotype distributions). The p-value for this first SNP is pretty high, meaning that the difference between the zombie/normal genotypes could easily be seen by coincidence. \n",
    "\n",
    "Ok, so far so good! Now we just need to do this for all the SNPs and record the p-values."
   ]
  },
  {
   "cell_type": "code",
   "execution_count": 33,
   "id": "dc734109",
   "metadata": {},
   "outputs": [
    {
     "name": "stderr",
     "output_type": "stream",
     "text": [
      "/Library/Frameworks/Python.framework/Versions/3.12/lib/python3.12/site-packages/statsmodels/base/model.py:607: ConvergenceWarning: Maximum Likelihood optimization failed to converge. Check mle_retvals\n",
      "  warnings.warn(\"Maximum Likelihood optimization failed to \"\n"
     ]
    }
   ],
   "source": [
    "p_values = []\n",
    "\n",
    "for i in range(filtered_data.shape[0]):\n",
    "    \n",
    "    snp_genotypes = filtered_data[i, :]\n",
    "\n",
    "    X = sm.add_constant(snp_genotypes.astype(float))\n",
    "    result = sm.Logit(encoded_labels, X).fit(disp=False)\n",
    "    p_value = result.pvalues[1]\n",
    "    \n",
    "    p_values.append(p_value)\n"
   ]
  },
  {
   "cell_type": "markdown",
   "id": "28bc6a38-5790-42be-a4e0-b4a1a6742005",
   "metadata": {},
   "source": [
    "Alright, slight problem -- it looks like for at least one of the SNPs, the logistic regression model didn't properly converge on an answer, meaning the test results (including the p-value) are unreliable. But this is easily fixable, we'll just add an if/else statement to only save the p-value if the model properly converges, and to save a p-value of 1 (the least significant p-value) if it doesn't converge properly."
   ]
  },
  {
   "cell_type": "code",
   "execution_count": 34,
   "id": "1a95f99a-3133-4750-8a2e-9aa23f188a76",
   "metadata": {},
   "outputs": [
    {
     "name": "stderr",
     "output_type": "stream",
     "text": [
      "/Library/Frameworks/Python.framework/Versions/3.12/lib/python3.12/site-packages/statsmodels/base/model.py:607: ConvergenceWarning: Maximum Likelihood optimization failed to converge. Check mle_retvals\n",
      "  warnings.warn(\"Maximum Likelihood optimization failed to \"\n"
     ]
    }
   ],
   "source": [
    "p_values = []\n",
    "\n",
    "for i in range(filtered_data.shape[0]):\n",
    "    \n",
    "    snp_genotypes = filtered_data[i, :]\n",
    "\n",
    "    X = sm.add_constant(snp_genotypes.astype(float))\n",
    "    result = sm.Logit(encoded_labels, X).fit(disp=False)\n",
    "\n",
    "    if result.mle_retvals[\"converged\"]:\n",
    "        p_value = result.pvalues[1]\n",
    "        p_values.append(p_value)\n",
    "\n",
    "    else:\n",
    "        p_value = 1.0 # model didn't converge on an answer, so p_value isn't reliable. we'll assign the highest (least-significant) p_value\n",
    "        p_values.append(p_value)\n"
   ]
  },
  {
   "cell_type": "markdown",
   "id": "57837c61",
   "metadata": {},
   "source": [
    "Now we'll convert our `p_values` list to a NumPy array, to make it easier to work with."
   ]
  },
  {
   "cell_type": "code",
   "execution_count": 35,
   "id": "f9413b11",
   "metadata": {},
   "outputs": [],
   "source": [
    "p_values = np.array(p_values)"
   ]
  },
  {
   "cell_type": "markdown",
   "id": "0cfb3b0d-525d-4e60-aee4-b6c1151f2f69",
   "metadata": {},
   "source": [
    "And some quick sanity checks..."
   ]
  },
  {
   "cell_type": "code",
   "execution_count": 36,
   "id": "32d15aaf-b856-4441-ba25-c3c9d19693b9",
   "metadata": {},
   "outputs": [
    {
     "name": "stdout",
     "output_type": "stream",
     "text": [
      "0\n",
      "[0.63192949 1.         0.18372127 0.12938926 0.11749343]\n"
     ]
    }
   ],
   "source": [
    "print(np.sum(np.isnan(p_values))) # should be 0\n",
    "print(p_values[0:5])"
   ]
  },
  {
   "cell_type": "markdown",
   "id": "2b7afc17",
   "metadata": {},
   "source": [
    "Next we'll do a [Bonferroni correction](https://en.wikipedia.org/wiki/Bonferroni_correction), multiplying each p-value by the number of tests we did. [Here's a great comic explaining why this is necessary.](https://xkcd.com/882/)"
   ]
  },
  {
   "cell_type": "code",
   "execution_count": 37,
   "id": "b338eef2",
   "metadata": {},
   "outputs": [],
   "source": [
    "p_values_bonf = p_values * len(p_values)"
   ]
  },
  {
   "cell_type": "markdown",
   "id": "1ad1f6a7-39ef-48a4-99f8-e24faf6e2a4a",
   "metadata": {},
   "source": [
    "(**NOTE:** in practice, people typically use another multiple-test correction called the [Benjamini-Hochberg correction,](https://www.youtube.com/watch?v=K8LQSvtjcEo) which is more lenient. But for educational purposes, we'll use the Bonferroni correction, since it's easier to understand on an inuitive level.)"
   ]
  },
  {
   "cell_type": "markdown",
   "id": "b86e1e78",
   "metadata": {},
   "source": [
    "Now we can check to see if any SNPs came up statistically significant, after the Bonferroni correction."
   ]
  },
  {
   "cell_type": "code",
   "execution_count": 38,
   "id": "d215d88a",
   "metadata": {},
   "outputs": [
    {
     "name": "stdout",
     "output_type": "stream",
     "text": [
      "[['chr1:221240797' 'G' 'A']\n",
      " ['chr2:25491016' 'T' 'C']\n",
      " ['chr2:27677691' 'G' 'A']\n",
      " ['chr2:217890643' 'A' 'G']\n",
      " ['chr2:239567125' 'T' 'C']\n",
      " ['chr3:52739520' 'T' 'C']\n",
      " ['chr5:42582527' 'C' 'T']\n",
      " ['chr5:102282317' 'C' 'T']\n",
      " ['chr5:179729519' 'A' 'G']\n",
      " ['chr6:28169158' 'T' 'A']\n",
      " ['chr6:140688409' 'A' 'G']\n",
      " ['chr7:92657985' 'A' 'G']\n",
      " ['chr7:135262533' 'T' 'C']\n",
      " ['chr9:119176250' 'T' 'C']\n",
      " ['chr10:121124501' 'A' 'G']\n",
      " ['chr11:1890990' 'G' 'A']\n",
      " ['chr11:85436868' 'G' 'C']\n",
      " ['chr11:119054488' 'C' 'T']\n",
      " ['chr12:66359752' 'C' 'A']\n",
      " ['chr14:70469255' 'A' 'C']\n",
      " ['chr15:45526391' 'T' 'G']\n",
      " ['chr15:66051299' 'C' 'T']\n",
      " ['chr15:85171495' 'A' 'C']\n",
      " ['chr15:86159953' 'G' 'A']\n",
      " ['chr15:90113932' 'C' 'T']\n",
      " ['chr18:41427543' 'G' 'T']\n",
      " ['chr20:48597659' 'A' 'G']]\n"
     ]
    }
   ],
   "source": [
    "print(filtered_snp_info[p_values_bonf <= 0.05, ])"
   ]
  },
  {
   "cell_type": "markdown",
   "id": "b72d2263-1222-420f-b193-b4aac4273a45",
   "metadata": {},
   "source": [
    "If we want to check out any of these SNPs, a good web application for that is the [UCSC Genome Browser](https://genome.ucsc.edu/cgi-bin/hgTracks?db=hg38&lastVirtModeType=default&lastVirtModeExtraState=&virtModeType=default&virtMode=0&nonVirtPosition=&position=chr7%3A155799529%2D155812871&hgsid=2523738987_gaQyuq6dKzAFUjtdNBP0lr6y0cx8)."
   ]
  },
  {
   "cell_type": "markdown",
   "id": "32826f29",
   "metadata": {},
   "source": [
    "### **Step 5:** Manhattan Plot\n",
    "\n",
    "Now we'll make a Manhattan plot to visualize these results. First, we'll parse the *snp_ids* to separate the chromosome numbers and positions, and cast them to ints."
   ]
  },
  {
   "cell_type": "code",
   "execution_count": 39,
   "id": "ac3ddd5b",
   "metadata": {},
   "outputs": [],
   "source": [
    "filtered_snp_chromosomes = []\n",
    "filtered_snp_positions = []\n",
    "\n",
    "\n",
    "for i in range(filtered_snp_info.shape[0]):\n",
    "    \n",
    "    snp_position = filtered_snp_info[i,0]\n",
    "    \n",
    "    chromosome, position = snp_position.split(\":\")\n",
    "    \n",
    "    chromosome = chromosome.replace('chr', '')\n",
    "    \n",
    "    chromosome = int(chromosome)\n",
    "    position = int(position)\n",
    "    \n",
    "    \n",
    "    filtered_snp_chromosomes.append(chromosome)\n",
    "    filtered_snp_positions.append(position)\n",
    "    \n",
    "    \n",
    "filtered_snp_chromosomes = np.array(filtered_snp_chromosomes)\n",
    "filtered_snp_positions = np.array(filtered_snp_positions)"
   ]
  },
  {
   "cell_type": "markdown",
   "id": "e5ceaca7",
   "metadata": {},
   "source": [
    "Next, we'll take the negative log of the raw p-values, so that the lowest p-values will be high positive numbers."
   ]
  },
  {
   "cell_type": "code",
   "execution_count": 40,
   "id": "50594a72",
   "metadata": {},
   "outputs": [],
   "source": [
    "neg_log_p_values = -np.log10(p_values)"
   ]
  },
  {
   "cell_type": "markdown",
   "id": "6fdfa03a",
   "metadata": {},
   "source": [
    "This is a pretty tricky plot to make, so I found it easiest to just use ChatGPT. My rule with ChatGPT is to only use it for things where I can immediately check if it's getting it right or not, like plotting and string manipulation."
   ]
  },
  {
   "cell_type": "code",
   "execution_count": 37,
   "id": "0155c721",
   "metadata": {},
   "outputs": [
    {
     "data": {
      "image/png": "[encoded data removed]",
      "text/plain": [
       "<Figure size 1200x600 with 1 Axes>"
      ]
     },
     "metadata": {},
     "output_type": "display_data"
    }
   ],
   "source": [
    "# Create a DataFrame-like structure using NumPy\n",
    "snp_data = np.column_stack((filtered_snp_chromosomes, filtered_snp_positions, neg_log_p_values))\n",
    "\n",
    "# Sort the data by chromosome and position\n",
    "snp_data = snp_data[np.lexsort((snp_data[:, 1], snp_data[:, 0]))]\n",
    "\n",
    "# Compute cumulative positions\n",
    "cumulative_positions = np.zeros_like(filtered_snp_positions)\n",
    "chromosome_offsets = {}\n",
    "midpoints = []\n",
    "\n",
    "current_offset = 0\n",
    "for chromosome in np.unique(filtered_snp_chromosomes):\n",
    "    chrom_mask = filtered_snp_chromosomes == chromosome\n",
    "    chromosome_offsets[chromosome] = current_offset\n",
    "    cumulative_positions[chrom_mask] = filtered_snp_positions[chrom_mask] + current_offset\n",
    "    midpoints.append((current_offset + np.max(cumulative_positions[chrom_mask])) / 2)\n",
    "    current_offset += np.max(filtered_snp_positions[chrom_mask]) + 1  # Add a buffer between chromosomes\n",
    "\n",
    "# Prepare the Manhattan plot\n",
    "plt.figure(figsize=(12, 6))\n",
    "\n",
    "# Define colors for different chromosomes\n",
    "colors = ['#1f77b4', '#ff7f0e']\n",
    "\n",
    "# Plot each chromosome with alternating colors and smaller dots\n",
    "dot_size = 10  # Adjust this value to change the size of the dots\n",
    "current_chromosome = 1\n",
    "for chromosome in np.unique(snp_data[:, 0]):\n",
    "    chrom_mask = snp_data[:, 0] == chromosome\n",
    "    plt.scatter(cumulative_positions[chrom_mask], snp_data[chrom_mask, 2], c=colors[current_chromosome % 2], s=dot_size, label=f'Chromosome {chromosome}')\n",
    "    current_chromosome += 1\n",
    "\n",
    "# Add chromosome labels at midpoints\n",
    "plt.xticks(midpoints, np.unique(filtered_snp_chromosomes))\n",
    "\n",
    "# Add significance line\n",
    "sig_thresh = -np.log10(0.05/filtered_data.shape[0])\n",
    "plt.axhline(y=sig_thresh,\n",
    "            color='grey',\n",
    "            linestyle='--',\n",
    "            linewidth=1,\n",
    "            alpha=0.4)\n",
    "\n",
    "# Add labels and title\n",
    "plt.xlabel('Chromosome')\n",
    "plt.ylabel('-log10(p-value)')\n",
    "plt.title('Manhattan Plot of GWAS Results')\n",
    "# plt.legend()\n",
    "\n",
    "# Show the plot\n",
    "plt.savefig(\"output/manhattan_plot.pdf\")\n",
    "\n",
    "plt.show()"
   ]
  },
  {
   "cell_type": "markdown",
   "id": "75b0242c-6206-4d7d-83f9-7e3a40cfaf81",
   "metadata": {},
   "source": [
    "Pretty cool! For comparison, here's a [real-life example of a Manhattan plot](https://www.researchgate.net/figure/The-Manhattan-plot-for-the-primary-genome-wide-association-meta-analysis-of-anorexia_fig1_334472714). It's interesting to note some of the differences. For example, in the real plot, there are clusters of significant SNPs that are close to each other in terms of chromosome position. This makes sense biologically, and the reason we don't see it in our plot is that the mock dataset I made up is somewhat unrealistic! But maybe I'll try to add that for a future version of the class."
   ]
  },
  {
   "cell_type": "markdown",
   "id": "f92ae23c-3f5d-45ac-a45d-7a7842b68101",
   "metadata": {},
   "source": [
    "### **Step 6:** More Checks\n",
    "\n",
    "If we want, we can do some more checks to look further into the SNPs that came up significant. Let's take a look at the first one: `chr1:221240797`."
   ]
  },
  {
   "cell_type": "code",
   "execution_count": 41,
   "id": "77edb7c6-cbc7-4860-ba70-a5134b3935b1",
   "metadata": {},
   "outputs": [
    {
     "name": "stdout",
     "output_type": "stream",
     "text": [
      "[['chr1:221240797' 'G' 'A']]\n",
      "[2 1 2 2 2 2 2 2 1 2 1 1 1 1 1 2 2 2 2 2 2 1 2 2 2 2 2 2 2 2 2 2 2 1 1 2 2\n",
      " 2 1 2 2 2 1 2 2 2 2 2 2 1 2 2 0 2 1 2 1 1 1 2 2 2 1 1 1 1 2 1 2 2 2 2 2 2\n",
      " 2 2 2 2 2 2 1 2 2 2 2 2 1 2 2 2 1 2 2 2 2 2 2 2 1 2 0 0 0 0 0 1 1 0 0 1 1\n",
      " 0 2 1 0 0 1 0 1 1 1 0 0 0 1 0 1 1 0 0 1 0 0 0 1 0 1 0 0 0 1 0 1 1 1 1 1 1\n",
      " 0 1 0 1 0 0 0 0 2 0 1 1 2 2 1 0 0 0 0 0 0 0 0 0 1 0 0 1 1 1 0 0 0 0 1 0 0\n",
      " 0 1 1 0 0 0 0 0 1 0 1 1 0 0 0]\n"
     ]
    }
   ],
   "source": [
    "snp_id_to_check = \"chr1:221240797\"\n",
    "\n",
    "snp_to_check = filtered_data[filtered_snp_info[:,0] == snp_id_to_check, :].flatten()\n",
    "\n",
    "print(filtered_snp_info[filtered_snp_info[:,0] == snp_id_to_check, :])\n",
    "print(snp_to_check)"
   ]
  },
  {
   "cell_type": "markdown",
   "id": "d0daba42-5766-47c6-827c-59c6597e7674",
   "metadata": {},
   "source": [
    "For example, maybe we want to check what fraction of the samples were zombies for each of the three possible genotypes."
   ]
  },
  {
   "cell_type": "code",
   "execution_count": 42,
   "id": "3c094a9d-fe2c-4b7b-b8ed-92dd753365b1",
   "metadata": {},
   "outputs": [
    {
     "name": "stdout",
     "output_type": "stream",
     "text": [
      "98.333% of people with genotype 0 (ref,ref) for SNP chr1:221240797 were zombies.\n",
      "58.73% of people with genotype 1 (ref,alt) for SNP chr1:221240797 were zombies.\n",
      "5.195% of people with genotype 2 (alt,alt) for SNP chr1:221240797 were zombies.\n"
     ]
    }
   ],
   "source": [
    "snp_to_check_NORMAL = snp_to_check[encoded_labels==0]\n",
    "snp_to_check_ZOMBIE = snp_to_check[encoded_labels==1]\n",
    "\n",
    "# out of all the people with genotype 0 (ref,ref), what fraction were zombies?\n",
    "zombie_frac_0 = np.sum(snp_to_check_ZOMBIE==0) / (np.sum(snp_to_check_ZOMBIE==0) + np.sum(snp_to_check_NORMAL==0))\n",
    "print(f\"{round(zombie_frac_0*100,3)}% of people with genotype 0 (ref,ref) for SNP {snp_id_to_check} were zombies.\")\n",
    "\n",
    "# out of all the people with genotype 1 (ref,alt), what fraction were zombies?\n",
    "zombie_frac_1 = np.sum(snp_to_check_ZOMBIE==1) / (np.sum(snp_to_check_ZOMBIE==1) + np.sum(snp_to_check_NORMAL==1))\n",
    "print(f\"{round(zombie_frac_1*100,3)}% of people with genotype 1 (ref,alt) for SNP {snp_id_to_check} were zombies.\")\n",
    "\n",
    "# out of all the people with genotype 2 (alt,alt), what fraction were zombies?\n",
    "zombie_frac_2 = np.sum(snp_to_check_ZOMBIE==2) / (np.sum(snp_to_check_ZOMBIE==2) + np.sum(snp_to_check_NORMAL==2))\n",
    "print(f\"{round(zombie_frac_2*100,3)}% of people with genotype 2 (alt,alt) for SNP {snp_id_to_check} were zombies.\")\n"
   ]
  },
  {
   "cell_type": "markdown",
   "id": "bc527f4f-0d72-4f78-9156-c60c68c6b7c0",
   "metadata": {},
   "source": [
    "We can also plot the data..."
   ]
  },
  {
   "cell_type": "code",
   "execution_count": 43,
   "id": "27858716-1a21-4da4-94c0-8d7ee8bf16b5",
   "metadata": {},
   "outputs": [
    {
     "data": {
      "image/png": "[encoded data removed]",
      "text/plain": [
       "<Figure size 640x480 with 1 Axes>"
      ]
     },
     "metadata": {},
     "output_type": "display_data"
    }
   ],
   "source": [
    "plt.figure()\n",
    "# add small random noise for display\n",
    "x_jitter = snp_to_check + np.random.normal(0, 0.05, size=N)\n",
    "plt.scatter(x_jitter, encoded_labels, alpha=0.6)\n",
    "plt.yticks([0,1], [\"0 (Normal)\", \"1 (Zombie)\"])\n",
    "plt.xticks([0,1,2], [\"0 (ref,ref)\", \"1 (ref,alt)\",\"2 (alt,alt)\"])\n",
    "\n",
    "plt.xlabel(\"Genotype\")\n",
    "plt.ylabel(\"Status\")\n",
    "plt.title(snp_id_to_check)\n",
    "plt.show()"
   ]
  },
  {
   "cell_type": "markdown",
   "id": "ca8ae233-ffae-47a9-87c4-1d290e4012a9",
   "metadata": {},
   "source": [
    "re-run the logistic regression..."
   ]
  },
  {
   "cell_type": "code",
   "execution_count": 44,
   "id": "2677b1ff-85f5-40d3-a2d3-58b93cb3d0bd",
   "metadata": {},
   "outputs": [
    {
     "name": "stdout",
     "output_type": "stream",
     "text": [
      "                           Logit Regression Results                           \n",
      "==============================================================================\n",
      "Dep. Variable:                      y   No. Observations:                  200\n",
      "Model:                          Logit   Df Residuals:                      198\n",
      "Method:                           MLE   Df Model:                            1\n",
      "Date:                Sat, 26 Jul 2025   Pseudo R-squ.:                  0.5413\n",
      "Time:                        14:08:56   Log-Likelihood:                -63.588\n",
      "converged:                       True   LL-Null:                       -138.63\n",
      "Covariance Type:            nonrobust   LLR p-value:                 1.663e-34\n",
      "==============================================================================\n",
      "                 coef    std err          z      P>|z|      [0.025      0.975]\n",
      "------------------------------------------------------------------------------\n",
      "const          3.7870      0.566      6.687      0.000       2.677       4.897\n",
      "x1            -3.3908      0.469     -7.236      0.000      -4.309      -2.472\n",
      "==============================================================================\n",
      "Fitted intercept b0 = 3.787, slope b1 = -3.391\n"
     ]
    }
   ],
   "source": [
    "# add constant column for intercept\n",
    "X = sm.add_constant(snp_to_check)\n",
    "model = sm.Logit(encoded_labels, X)\n",
    "result = model.fit(disp=False)\n",
    "\n",
    "print(result.summary())\n",
    "b0_hat, b1_hat = result.params\n",
    "print(f\"Fitted intercept b0 = {b0_hat:.3f}, slope b1 = {b1_hat:.3f}\")"
   ]
  },
  {
   "cell_type": "markdown",
   "id": "9c89cfe2-d50c-4ff0-9753-1dc4cd801c1c",
   "metadata": {},
   "source": [
    "And finally draw our curve with the fit parameters..."
   ]
  },
  {
   "cell_type": "code",
   "execution_count": 45,
   "id": "b4e06226-35f1-49bb-9986-aa4779c87c56",
   "metadata": {},
   "outputs": [
    {
     "data": {
      "image/png": "[encoded data removed]",
      "text/plain": [
       "<Figure size 640x480 with 1 Axes>"
      ]
     },
     "metadata": {},
     "output_type": "display_data"
    }
   ],
   "source": [
    "plt.figure()\n",
    "# scatter raw data\n",
    "plt.scatter(x_jitter, encoded_labels, alpha=0.6)\n",
    "\n",
    "# logistic curve using fitted params\n",
    "x_plot = np.linspace(-0.5, 2.5, 200)\n",
    "y_plot = logistic(x_plot, b0_hat, b1_hat)\n",
    "plt.plot(x_plot, y_plot, linewidth=2)\n",
    "\n",
    "plt.yticks([0,1], [\"Control\", \"Case\"])\n",
    "plt.xlabel(\"Genotype\")\n",
    "plt.ylabel(\"Status\")\n",
    "plt.yticks([0,1], [\"0 (Normal)\", \"1 (Zombie)\"])\n",
    "plt.xticks([0,1,2], [\"0 (ref,ref)\", \"1 (ref,alt)\",\"2 (alt,alt)\"])\n",
    "plt.title(snp_id_to_check)\n",
    "plt.show()"
   ]
  }
 ],
 "metadata": {
  "kernelspec": {
   "display_name": "Python 3 (ipykernel)",
   "language": "python",
   "name": "python3"
  },
  "language_info": {
   "codemirror_mode": {
    "name": "ipython",
    "version": 3
   },
   "file_extension": ".py",
   "mimetype": "text/x-python",
   "name": "python",
   "nbconvert_exporter": "python",
   "pygments_lexer": "ipython3",
   "version": "3.12.5"
  }
 },
 "nbformat": 4,
 "nbformat_minor": 5
}
